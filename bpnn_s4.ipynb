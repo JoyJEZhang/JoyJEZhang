{
 "cells": [
  {
   "cell_type": "code",
   "execution_count": 327,
   "id": "c92bfd22",
   "metadata": {},
   "outputs": [],
   "source": [
    "import numpy as np\n",
    "import matplotlib.pyplot as plt\n",
    "import pandas as pd"
   ]
  },
  {
   "cell_type": "code",
   "execution_count": 328,
   "id": "51145254",
   "metadata": {},
   "outputs": [
    {
     "name": "stdout",
     "output_type": "stream",
     "text": [
      "4072\n",
      "4286\n"
     ]
    },
    {
     "data": {
      "text/html": [
       "<div>\n",
       "<style scoped>\n",
       "    .dataframe tbody tr th:only-of-type {\n",
       "        vertical-align: middle;\n",
       "    }\n",
       "\n",
       "    .dataframe tbody tr th {\n",
       "        vertical-align: top;\n",
       "    }\n",
       "\n",
       "    .dataframe thead th {\n",
       "        text-align: right;\n",
       "    }\n",
       "</style>\n",
       "<table border=\"1\" class=\"dataframe\">\n",
       "  <thead>\n",
       "    <tr style=\"text-align: right;\">\n",
       "      <th></th>\n",
       "      <th>Date</th>\n",
       "      <th>Before</th>\n",
       "    </tr>\n",
       "  </thead>\n",
       "  <tbody>\n",
       "    <tr>\n",
       "      <th>0</th>\n",
       "      <td>2005/1/4</td>\n",
       "      <td>1000.000</td>\n",
       "    </tr>\n",
       "    <tr>\n",
       "      <th>1</th>\n",
       "      <td>2005/1/5</td>\n",
       "      <td>981.555</td>\n",
       "    </tr>\n",
       "    <tr>\n",
       "      <th>2</th>\n",
       "      <td>2005/1/6</td>\n",
       "      <td>986.535</td>\n",
       "    </tr>\n",
       "    <tr>\n",
       "      <th>3</th>\n",
       "      <td>2005/1/7</td>\n",
       "      <td>975.526</td>\n",
       "    </tr>\n",
       "    <tr>\n",
       "      <th>4</th>\n",
       "      <td>2005/1/10</td>\n",
       "      <td>980.717</td>\n",
       "    </tr>\n",
       "  </tbody>\n",
       "</table>\n",
       "</div>"
      ],
      "text/plain": [
       "        Date    Before\n",
       "0   2005/1/4  1000.000\n",
       "1   2005/1/5   981.555\n",
       "2   2005/1/6   986.535\n",
       "3   2005/1/7   975.526\n",
       "4  2005/1/10   980.717"
      ]
     },
     "execution_count": 328,
     "metadata": {},
     "output_type": "execute_result"
    }
   ],
   "source": [
    "datastock = pd.read_csv('./000922.csv')  \n",
    "#datastock = datastock.sort_values(by='Date').reset_index(drop=True)\n",
    "datastock_all = datastock.filter(['Date'])\n",
    "datastock_all['Before']=datastock.filter(['Before'])\n",
    "datastock_set = datastock_all.iloc[:, 1:2].values #导入所有的上一交易日数据，相当于Close\n",
    "training_data_len = int(np.ceil( len(datastock_set) * .95 )) #训练数据数量\n",
    "print(training_data_len)\n",
    "print(len(datastock_set))\n",
    "#print(datastock_all.shape)\n",
    "#print(datastock_set)\n",
    "datastock_all.head()"
   ]
  },
  {
   "cell_type": "code",
   "execution_count": 329,
   "id": "056910af",
   "metadata": {},
   "outputs": [],
   "source": [
    "# 训练数据max-min归一化\n",
    "from sklearn.preprocessing import MinMaxScaler\n",
    "sc = MinMaxScaler(feature_range = (0, 1))\n",
    "datastock_set_scaled = sc.fit_transform(datastock_set)"
   ]
  },
  {
   "cell_type": "code",
   "execution_count": 330,
   "id": "83708ede",
   "metadata": {},
   "outputs": [],
   "source": [
    "# 每条样本含60个时间步，对应下一时间步的标签值\n",
    "train_data = datastock_set_scaled[0:int(training_data_len), :]\n",
    "X_train = []\n",
    "y_train = []\n",
    "for i in range(60, len(train_data)):\n",
    "    X_train.append(train_data[i-60:i, 0])\n",
    "    y_train.append(train_data[i, 0])\n",
    "X_train, y_train = np.array(X_train), np.array(y_train)\n",
    "\n",
    "#print(X_train.shape)\n",
    "#print(y_train.shape)\n",
    "#print(X_train)\n",
    "# Reshaping\n",
    "X_train = np.reshape(X_train, (X_train.shape[0], X_train.shape[1], 1))\n",
    "#print(X_train.shape)"
   ]
  },
  {
   "cell_type": "code",
   "execution_count": 331,
   "id": "4e3b3de4",
   "metadata": {},
   "outputs": [],
   "source": [
    "#  利用Keras创建RNN模型\n",
    "\n",
    "from keras.models import Sequential\n",
    "from keras.layers import Dense\n",
    "from keras.layers import SimpleRNN,LSTM\n",
    "from keras.layers import Dropout"
   ]
  },
  {
   "cell_type": "code",
   "execution_count": 332,
   "id": "5012014f",
   "metadata": {},
   "outputs": [],
   "source": [
    "# 初始化顺序模型\n",
    "regressor = Sequential()\n",
    "\n",
    "# 定义输入层及带5个神经元的隐藏层\n",
    "regressor.add(SimpleRNN(units = 5, input_shape = (X_train.shape[1], 1)))\n",
    "\n",
    "# 定义线性的输出层\n",
    "regressor.add(Dense(units = 1))\n",
    "\n",
    "# 模型编译：定义优化算法adam， 目标函数均方根MSE\n",
    "regressor.compile(optimizer = 'adam', loss = 'mean_squared_error')"
   ]
  },
  {
   "cell_type": "code",
   "execution_count": 333,
   "id": "34765c43",
   "metadata": {},
   "outputs": [
    {
     "name": "stdout",
     "output_type": "stream",
     "text": [
      "Epoch 1/60\n",
      "61/61 [==============================] - 1s 9ms/step - loss: 0.9410 - val_loss: 1.4425\n",
      "Epoch 2/60\n",
      "61/61 [==============================] - 0s 7ms/step - loss: 0.2943 - val_loss: 0.4281\n",
      "Epoch 3/60\n",
      "61/61 [==============================] - 0s 6ms/step - loss: 0.0926 - val_loss: 0.1792\n",
      "Epoch 4/60\n",
      "61/61 [==============================] - 0s 8ms/step - loss: 0.0534 - val_loss: 0.1007\n",
      "Epoch 5/60\n",
      "61/61 [==============================] - 0s 7ms/step - loss: 0.0362 - val_loss: 0.0635\n",
      "Epoch 6/60\n",
      "61/61 [==============================] - 0s 6ms/step - loss: 0.0249 - val_loss: 0.0432\n",
      "Epoch 7/60\n",
      "61/61 [==============================] - 0s 6ms/step - loss: 0.0184 - val_loss: 0.0321\n",
      "Epoch 8/60\n",
      "61/61 [==============================] - 0s 6ms/step - loss: 0.0152 - val_loss: 0.0255\n",
      "Epoch 9/60\n",
      "61/61 [==============================] - 0s 6ms/step - loss: 0.0138 - val_loss: 0.0224\n",
      "Epoch 10/60\n",
      "61/61 [==============================] - 0s 6ms/step - loss: 0.0127 - val_loss: 0.0201\n",
      "Epoch 11/60\n",
      "61/61 [==============================] - 0s 6ms/step - loss: 0.0119 - val_loss: 0.0181\n",
      "Epoch 12/60\n",
      "61/61 [==============================] - 0s 6ms/step - loss: 0.0112 - val_loss: 0.0170\n",
      "Epoch 13/60\n",
      "61/61 [==============================] - 0s 6ms/step - loss: 0.0106 - val_loss: 0.0155\n",
      "Epoch 14/60\n",
      "61/61 [==============================] - 0s 6ms/step - loss: 0.0099 - val_loss: 0.0143\n",
      "Epoch 15/60\n",
      "61/61 [==============================] - 0s 6ms/step - loss: 0.0094 - val_loss: 0.0132\n",
      "Epoch 16/60\n",
      "61/61 [==============================] - 0s 6ms/step - loss: 0.0089 - val_loss: 0.0125\n",
      "Epoch 17/60\n",
      "61/61 [==============================] - 0s 6ms/step - loss: 0.0086 - val_loss: 0.0119\n",
      "Epoch 18/60\n",
      "61/61 [==============================] - 0s 7ms/step - loss: 0.0083 - val_loss: 0.0113\n",
      "Epoch 19/60\n",
      "61/61 [==============================] - 0s 7ms/step - loss: 0.0077 - val_loss: 0.0103\n",
      "Epoch 20/60\n",
      "61/61 [==============================] - 0s 7ms/step - loss: 0.0074 - val_loss: 0.0098\n",
      "Epoch 21/60\n",
      "61/61 [==============================] - 0s 6ms/step - loss: 0.0071 - val_loss: 0.0092\n",
      "Epoch 22/60\n",
      "61/61 [==============================] - 0s 6ms/step - loss: 0.0068 - val_loss: 0.0088\n",
      "Epoch 23/60\n",
      "61/61 [==============================] - 0s 6ms/step - loss: 0.0065 - val_loss: 0.0086\n",
      "Epoch 24/60\n",
      "61/61 [==============================] - 0s 6ms/step - loss: 0.0062 - val_loss: 0.0078\n",
      "Epoch 25/60\n",
      "61/61 [==============================] - 0s 6ms/step - loss: 0.0059 - val_loss: 0.0072\n",
      "Epoch 26/60\n",
      "61/61 [==============================] - 0s 6ms/step - loss: 0.0057 - val_loss: 0.0074\n",
      "Epoch 27/60\n",
      "61/61 [==============================] - 0s 6ms/step - loss: 0.0055 - val_loss: 0.0066\n",
      "Epoch 28/60\n",
      "61/61 [==============================] - 0s 6ms/step - loss: 0.0052 - val_loss: 0.0064\n",
      "Epoch 29/60\n",
      "61/61 [==============================] - 0s 6ms/step - loss: 0.0050 - val_loss: 0.0068\n",
      "Epoch 30/60\n",
      "61/61 [==============================] - 0s 6ms/step - loss: 0.0048 - val_loss: 0.0066\n",
      "Epoch 31/60\n",
      "61/61 [==============================] - 0s 6ms/step - loss: 0.0045 - val_loss: 0.0055\n",
      "Epoch 32/60\n",
      "61/61 [==============================] - 0s 7ms/step - loss: 0.0044 - val_loss: 0.0055\n",
      "Epoch 33/60\n",
      "61/61 [==============================] - 0s 6ms/step - loss: 0.0042 - val_loss: 0.0051\n",
      "Epoch 34/60\n",
      "61/61 [==============================] - 0s 6ms/step - loss: 0.0041 - val_loss: 0.0056\n",
      "Epoch 35/60\n",
      "61/61 [==============================] - 0s 6ms/step - loss: 0.0040 - val_loss: 0.0048\n",
      "Epoch 36/60\n",
      "61/61 [==============================] - 0s 7ms/step - loss: 0.0038 - val_loss: 0.0043\n",
      "Epoch 37/60\n",
      "61/61 [==============================] - 0s 7ms/step - loss: 0.0037 - val_loss: 0.0044\n",
      "Epoch 38/60\n",
      "61/61 [==============================] - 0s 6ms/step - loss: 0.0035 - val_loss: 0.0044\n",
      "Epoch 39/60\n",
      "61/61 [==============================] - 0s 6ms/step - loss: 0.0036 - val_loss: 0.0036\n",
      "Epoch 40/60\n",
      "61/61 [==============================] - 0s 6ms/step - loss: 0.0033 - val_loss: 0.0036\n",
      "Epoch 41/60\n",
      "61/61 [==============================] - 0s 6ms/step - loss: 0.0032 - val_loss: 0.0036\n",
      "Epoch 42/60\n",
      "61/61 [==============================] - 0s 6ms/step - loss: 0.0031 - val_loss: 0.0032\n",
      "Epoch 43/60\n",
      "61/61 [==============================] - 0s 6ms/step - loss: 0.0030 - val_loss: 0.0041\n",
      "Epoch 44/60\n",
      "61/61 [==============================] - 0s 6ms/step - loss: 0.0029 - val_loss: 0.0029\n",
      "Epoch 45/60\n",
      "61/61 [==============================] - 0s 7ms/step - loss: 0.0029 - val_loss: 0.0028\n",
      "Epoch 46/60\n",
      "61/61 [==============================] - 0s 6ms/step - loss: 0.0027 - val_loss: 0.0030\n",
      "Epoch 47/60\n",
      "61/61 [==============================] - 0s 6ms/step - loss: 0.0027 - val_loss: 0.0029\n",
      "Epoch 48/60\n",
      "61/61 [==============================] - 0s 6ms/step - loss: 0.0027 - val_loss: 0.0027\n",
      "Epoch 49/60\n",
      "61/61 [==============================] - 0s 6ms/step - loss: 0.0025 - val_loss: 0.0025\n",
      "Epoch 50/60\n",
      "61/61 [==============================] - 0s 6ms/step - loss: 0.0025 - val_loss: 0.0024\n",
      "Epoch 51/60\n",
      "61/61 [==============================] - 0s 6ms/step - loss: 0.0023 - val_loss: 0.0023\n",
      "Epoch 52/60\n",
      "61/61 [==============================] - 0s 6ms/step - loss: 0.0023 - val_loss: 0.0023\n",
      "Epoch 53/60\n",
      "61/61 [==============================] - 0s 6ms/step - loss: 0.0022 - val_loss: 0.0022\n",
      "Epoch 54/60\n",
      "61/61 [==============================] - 0s 6ms/step - loss: 0.0022 - val_loss: 0.0023\n",
      "Epoch 55/60\n",
      "61/61 [==============================] - 0s 6ms/step - loss: 0.0021 - val_loss: 0.0021\n",
      "Epoch 56/60\n",
      "61/61 [==============================] - 0s 6ms/step - loss: 0.0021 - val_loss: 0.0019\n",
      "Epoch 57/60\n",
      "61/61 [==============================] - 0s 6ms/step - loss: 0.0021 - val_loss: 0.0020\n",
      "Epoch 58/60\n",
      "61/61 [==============================] - 0s 6ms/step - loss: 0.0020 - val_loss: 0.0019\n",
      "Epoch 59/60\n",
      "61/61 [==============================] - 0s 6ms/step - loss: 0.0019 - val_loss: 0.0018\n",
      "Epoch 60/60\n",
      "61/61 [==============================] - 0s 6ms/step - loss: 0.0019 - val_loss: 0.0018\n",
      "Model: \"sequential_16\"\n",
      "_________________________________________________________________\n",
      " Layer (type)                Output Shape              Param #   \n",
      "=================================================================\n",
      " simple_rnn_16 (SimpleRNN)   (None, 5)                 35        \n",
      "                                                                 \n",
      " dense_16 (Dense)            (None, 1)                 6         \n",
      "                                                                 \n",
      "=================================================================\n",
      "Total params: 41\n",
      "Trainable params: 41\n",
      "Non-trainable params: 0\n",
      "_________________________________________________________________\n"
     ]
    },
    {
     "data": {
      "image/png": "[encoded data removed]",
      "text/plain": [
       "<Figure size 432x288 with 1 Axes>"
      ]
     },
     "metadata": {
      "needs_background": "light"
     },
     "output_type": "display_data"
    }
   ],
   "source": [
    "# 模型训练\n",
    "history = regressor.fit(X_train, y_train, epochs = 100, batch_size = 100, validation_split=0.1)\n",
    "\n",
    "regressor.summary()\n",
    "\n",
    "\n",
    "plt.plot(history.history['loss'],c='blue')    # 蓝色线训练集损失\n",
    "plt.plot(history.history['val_loss'],c='red') # 红色线验证集损失\n",
    "plt.show()\n"
   ]
  },
  {
   "cell_type": "code",
   "execution_count": 348,
   "id": "6d0951f5",
   "metadata": {},
   "outputs": [
    {
     "name": "stdout",
     "output_type": "stream",
     "text": [
      "4465.242\n"
     ]
    }
   ],
   "source": [
    "# 测试数据\n",
    "test_data = datastock_set_scaled[training_data_len - 60: , :]\n",
    "#test_data = test_data.sort_values(by='Date').reset_index(drop=True)\n",
    "\n",
    "X_test = []\n",
    "Y_test = datastock_set[training_data_len:, :]\n",
    "for i in range(60, len(test_data)):\n",
    "    X_test.append(test_data[i-60:i, 0])\n",
    "X_test = np.array(X_test)\n",
    "X_test = np.reshape(X_test, (X_test.shape[0], X_test.shape[1], 1 ))\n",
    "\n",
    "# 模型预测\n",
    "predicted_stock_price = regressor.predict(X_test)\n",
    "# 逆归一化\n",
    "predicted_stock_price = sc.inverse_transform(predicted_stock_price)\n",
    "\n",
    "#获得未来一天的预测，并能循环填写入测试集中 2022-5-02\n",
    "last_predicted_stock_price = predicted_stock_price[len(predicted_stock_price)-1]\n",
    "print(last_predicted_stock_price[0])\n",
    "\n",
    "\"\"\"\n",
    "#更新CSV现有最后一行的Before，并产生下一工作日的空记录\n",
    "update_lastdata={'Date':['2022-04-30'],'Before':[last_predicted_stock_price.value]}\n",
    "df = pd.DataFrame(update_lastdata,index=[len(datastock_all)])\n",
    "df.to_csv('./000922.csv',mode='w',index=False,header=False)\n",
    "\n",
    "new_data={'Date':['2022-05-01'],'Before':['']}\n",
    "df = pd.DataFrame(new_data)\n",
    "#mode = 'a'为追加数据，index为每行的索引序号，header为标题\n",
    "df.to_csv('./000922.csv',mode='a',index=False,header=False)\n",
    "\"\"\"\n",
    "\n",
    "rmse = np.sqrt(np.mean(((predicted_stock_price - Y_test) ** 2)))"
   ]
  },
  {
   "cell_type": "code",
   "execution_count": 346,
   "id": "5b74bbd9",
   "metadata": {},
   "outputs": [
    {
     "name": "stderr",
     "output_type": "stream",
     "text": [
      "C:\\Users\\frank_zhang\\AppData\\Local\\Temp/ipykernel_37048/1741848046.py:5: SettingWithCopyWarning: \n",
      "A value is trying to be set on a copy of a slice from a DataFrame.\n",
      "Try using .loc[row_indexer,col_indexer] = value instead\n",
      "\n",
      "See the caveats in the documentation: https://pandas.pydata.org/pandas-docs/stable/user_guide/indexing.html#returning-a-view-versus-a-copy\n",
      "  valid['Predictions'] = predicted_stock_price\n"
     ]
    },
    {
     "data": {
      "image/png": "[encoded data removed]",
      "text/plain": [
       "<Figure size 1152x432 with 1 Axes>"
      ]
     },
     "metadata": {
      "needs_background": "light"
     },
     "output_type": "display_data"
    },
    {
     "name": "stdout",
     "output_type": "stream",
     "text": [
      "            Date     Before  Predictions\n",
      "4072  2021/10/11  5244.4434  4784.325684\n",
      "4073  2021/10/12  5275.2232  4683.797852\n",
      "4074  2021/10/13  5187.6337  4667.033691\n",
      "4075  2021/10/14  5151.1249  4809.296387\n",
      "4076  2021/10/15  5130.9031  4899.378418\n",
      "...          ...        ...          ...\n",
      "4281   2022/4/26  4859.1573  4955.253418\n",
      "4282   2022/4/27  4766.7064  4980.332520\n",
      "4283   2022/4/28  4820.5909  4980.044922\n",
      "4284   2022/4/29  4883.1703  4757.747070\n",
      "4285   2022/4/30        NaN  4465.242188\n",
      "\n",
      "[214 rows x 3 columns]\n"
     ]
    }
   ],
   "source": [
    "# 预测与实际差异的可视化\n",
    "\n",
    "train = datastock_all[:training_data_len]\n",
    "valid = datastock_all[training_data_len:]\n",
    "valid['Predictions'] = predicted_stock_price\n",
    "# Visualize the data\n",
    "plt.figure(figsize=(16,6))\n",
    "plt.title('Predictions Model')\n",
    "plt.xlabel('Date', fontsize=18)\n",
    "plt.ylabel('Close Price', fontsize=18)\n",
    "plt.plot(train['Before'])\n",
    "plt.plot(valid[['Before', 'Predictions']])\n",
    "plt.legend(['Train', 'Val', 'Predictions'], loc='lower right')\n",
    "plt.show()\n",
    "\n",
    "print(valid)"
   ]
  },
  {
   "cell_type": "code",
   "execution_count": null,
   "id": "07561a8f",
   "metadata": {},
   "outputs": [],
   "source": []
  }
 ],
 "metadata": {
  "kernelspec": {
   "display_name": "Python 3 (ipykernel)",
   "language": "python",
   "name": "python3"
  },
  "language_info": {
   "codemirror_mode": {
    "name": "ipython",
    "version": 3
   },
   "file_extension": ".py",
   "mimetype": "text/x-python",
   "name": "python",
   "nbconvert_exporter": "python",
   "pygments_lexer": "ipython3",
   "version": "3.9.7"
  }
 },
 "nbformat": 4,
 "nbformat_minor": 5
}
